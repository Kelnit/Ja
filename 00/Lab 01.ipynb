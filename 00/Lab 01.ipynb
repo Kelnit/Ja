{
  "nbformat": 4,
  "nbformat_minor": 0,
  "metadata": {
    "colab": {
      "provenance": []
    },
    "kernelspec": {
      "name": "python3",
      "display_name": "Python 3"
    },
    "language_info": {
      "name": "python"
    }
  },
  "cells": [
    {
      "cell_type": "code",
      "execution_count": null,
      "metadata": {
        "id": "1jo_Zu3UGeIw"
      },
      "outputs": [],
      "source": [
        "!pip install tensorflow-data-validation --quiet\n",
        "\n",
        "!pip install tensorflow_data_validation[visualization] --quiet\n",
        "\n",
        "import tensorflow as tf\n",
        "\n",
        "import warnings, sys, pandas\n",
        "\n",
        "warnings.filterwarnings('ignore')"
      ]
    },
    {
      "cell_type": "code",
      "source": [
        "import tensorflow_data_validation as valida\n",
        "\n",
        "reader = lambda url, **multiargs : pandas.read_table(url, sep=\",\", **multiargs)\n",
        "\n",
        "master = \"https://raw.githubusercontent.com/GoogleCloudPlatform/training-data-analyst/master/courses/\"\n",
        "\n",
        "git = master + \"/machine_learning/deepdive2/production_ml/solutions\""
      ],
      "metadata": {
        "id": "Gy0Ijp7BUyoA"
      },
      "execution_count": null,
      "outputs": []
    },
    {
      "cell_type": "code",
      "source": [
        "url = git + \"/data/score_train.csv\"\n",
        "\n",
        "train = reader(url)"
      ],
      "metadata": {
        "id": "bm2it9FZG6Mj"
      },
      "execution_count": null,
      "outputs": []
    },
    {
      "cell_type": "code",
      "source": [
        "train.iloc[:5]"
      ],
      "metadata": {
        "id": "X1mLggk8Hq5S"
      },
      "execution_count": null,
      "outputs": []
    },
    {
      "cell_type": "code",
      "source": [
        "url = git + \"/data/score_test.csv\"\n",
        "\n",
        "testi = reader(url)"
      ],
      "metadata": {
        "id": "ycUEdlwaHyrS"
      },
      "execution_count": null,
      "outputs": []
    },
    {
      "cell_type": "code",
      "source": [
        "testi.iloc[:5]"
      ],
      "metadata": {
        "id": "zNM0t3LiIDTk"
      },
      "execution_count": null,
      "outputs": []
    },
    {
      "cell_type": "code",
      "source": [
        "train_stats = valida.generate_statistics_from_dataframe(train)\n",
        "\n",
        "type(train_stats)"
      ],
      "metadata": {
        "id": "K8Jotg7BIOTr"
      },
      "execution_count": null,
      "outputs": []
    },
    {
      "cell_type": "code",
      "source": [
        "valida.visualize_statistics(train_stats)"
      ],
      "metadata": {
        "id": "8AZRWfAuIX4l"
      },
      "execution_count": null,
      "outputs": []
    },
    {
      "cell_type": "code",
      "source": [
        "testi_stats = valida.generate_statistics_from_dataframe(testi)\n",
        "\n",
        "valida.visualize_statistics(testi_stats)"
      ],
      "metadata": {
        "id": "4tTLDYwdJQz5"
      },
      "execution_count": null,
      "outputs": []
    },
    {
      "cell_type": "code",
      "source": [
        "valida.visualize_statistics(train_stats, testi_stats, \"train\", \"testi\")"
      ],
      "metadata": {
        "id": "izlKMrukJaV9"
      },
      "execution_count": null,
      "outputs": []
    },
    {
      "cell_type": "code",
      "source": [
        "train_schema = valida.infer_schema(train_stats)\n",
        "\n",
        "type(train_schema)"
      ],
      "metadata": {
        "id": "DKgdyY3ZJ9qT"
      },
      "execution_count": null,
      "outputs": []
    },
    {
      "cell_type": "code",
      "source": [
        "train_schema"
      ],
      "metadata": {
        "id": "tUAzwT0zJ_xO"
      },
      "execution_count": null,
      "outputs": []
    },
    {
      "cell_type": "code",
      "source": [
        "valida.display_schema(schema=train_schema)"
      ],
      "metadata": {
        "id": "sNYTpvHTKTzO"
      },
      "execution_count": null,
      "outputs": []
    }
  ]
}